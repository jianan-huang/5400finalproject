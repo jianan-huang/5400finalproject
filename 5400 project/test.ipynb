{
 "cells": [
  {
   "cell_type": "code",
   "execution_count": 2,
   "metadata": {},
   "outputs": [],
   "source": [
    "import pandas as pd\n",
    "import numpy as np"
   ]
  },
  {
   "cell_type": "code",
   "execution_count": 14,
   "metadata": {},
   "outputs": [
    {
     "ename": "SyntaxError",
     "evalue": "invalid syntax (141007973.py, line 11)",
     "output_type": "error",
     "traceback": [
      "\u001b[0;36m  Cell \u001b[0;32mIn[14], line 11\u001b[0;36m\u001b[0m\n\u001b[0;31m    combined_df[['company']='Mastercard'].vader_daily_sentiment_score.isna().sum()\u001b[0m\n\u001b[0m                           ^\u001b[0m\n\u001b[0;31mSyntaxError\u001b[0m\u001b[0;31m:\u001b[0m invalid syntax\n"
     ]
    }
   ],
   "source": [
    "\n",
    "\n",
    "stock_df = pd.read_csv('data/historical_stock_prices.csv')\n",
    "sentiment_df = pd.read_csv('data/aggregated_daily_sentiment_scores_full.csv')\n",
    "# Convert date column to datetime\n",
    "stock_df['date'] = pd.to_datetime(stock_df['date']).dt.date\n",
    "\n",
    "# Convert date column to datetime\n",
    "sentiment_df['date'] = pd.to_datetime(sentiment_df['date']).dt.date\n",
    "\n",
    "# Merge historical price features with daily sentiment scores\n",
    "combined_df = pd.merge(stock_df, sentiment_df, on=['company', 'date'], how='left')\n",
    "combined_df[['company']=='Mastercard'].vader_daily_sentiment_score.isna().sum()\n",
    "combined_df"
   ]
  },
  {
   "cell_type": "code",
   "execution_count": null,
   "metadata": {},
   "outputs": [],
   "source": []
  }
 ],
 "metadata": {
  "kernelspec": {
   "display_name": "dsan5400",
   "language": "python",
   "name": "python3"
  },
  "language_info": {
   "codemirror_mode": {
    "name": "ipython",
    "version": 3
   },
   "file_extension": ".py",
   "mimetype": "text/x-python",
   "name": "python",
   "nbconvert_exporter": "python",
   "pygments_lexer": "ipython3",
   "version": "3.11.10"
  }
 },
 "nbformat": 4,
 "nbformat_minor": 2
}
